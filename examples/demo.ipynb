{
 "cells": [
  {
   "cell_type": "markdown",
   "metadata": {},
   "source": [
    "# Chron.jl demo\n",
    "This Jupyter notebook demonstrates the [Chron.jl](https://github.com/brenhinkeller/Chron.jl) Julia package for integrated Bayesian eruption age and stratigraphic age-depth modelling, based in part on the work of [Keller, Schoene, and Sameperton (2018)](https://doi.org/10.7185/geochemlet.1826) Geochemical Perspectives Letters 8, 31-35\n",
    "\n",
    "Any code from this notebook can also be copied and pasted into the Julia REPL or a .jl script\n",
    "\n",
    "Hint: `shift`-`enter` to run a single cell, or from the `Cell` menu select `Run All` to run the whole file\n",
    "***\n",
    "## Load external resources"
   ]
  },
  {
   "cell_type": "code",
   "execution_count": 1,
   "metadata": {},
   "outputs": [],
   "source": [
    "# Load (and install if necessary) the Chron.jl package\n",
    "if VERSION>=v\"0.7\"\n",
    "    using Pkg, Statistics\n",
    "end\n",
    "\n",
    "try\n",
    "    using Chron\n",
    "catch\n",
    "    Pkg.clone(\"https://github.com/brenhinkeller/Chron.jl\")\n",
    "    using Chron\n",
    "end\n",
    "\n",
    "using Plots; gr(); default(fmt = :png)"
   ]
  },
  {
   "cell_type": "markdown",
   "metadata": {},
   "source": [
    "## Enter sample information\n",
    "This example data is from Clyde et al. (2016) \"Direct high-precision\n",
    "U–Pb geochronology of the end-Cretaceous extinction and calibration of\n",
    "Paleocene astronomical timescales\" EPSL 452, 272–280.\n",
    "doi: 10.1016/j.epsl.2016.07.041"
   ]
  },
  {
   "cell_type": "code",
   "execution_count": 2,
   "metadata": {},
   "outputs": [],
   "source": [
    "nSamples = 5 # The number of samples you have data for\n",
    "smpl = NewStratAgeData(nSamples)\n",
    "smpl.Name      =   (\"KJ08-157\", \"KJ04-75\", \"KJ09-66\", \"KJ04-72\", \"KJ04-70\",)\n",
    "smpl.Height[:] =   [     -52.0,      44.0,      54.0,      82.0,      93.0,]\n",
    "smpl.Height_Sigma[:] = [   3.0,       1.0,       3.0,       3.0,       3.0,]\n",
    "smpl.Age_Sidedness[:] = zeros(nSamples) # Sidedness (zeros by default: geochron constraints are two-sided). Use -1 for a maximum age and +1 for a minimum age, 0 for two-sided\n",
    "smpl.Path = \"DenverUPbExampleData/\" # Where are the data files?\n",
    "smpl.inputSigmaLevel = 2 # i.e., are the data files 1-sigma or 2-sigma. Integer.\n",
    "\n",
    "AgeUnit = \"Ma\" # Unit of measurement for ages and errors in the data files\n",
    "HeightUnit = \"cm\"; # Unit of measurement for Height and Height_Sigma"
   ]
  },
  {
   "cell_type": "markdown",
   "metadata": {},
   "source": [
    "## Configure and run eruption/deposition age model\n",
    "To learn more about the eruption/deposition age estimation model, see also [Keller, Schoene, and Sameperton (2018)](https://doi.org/10.7185/geochemlet.1826) and the [BayeZirChron demo notebook](http://brenh.in/BayeZirChron)"
   ]
  },
  {
   "cell_type": "code",
   "execution_count": 3,
   "metadata": {},
   "outputs": [
    {
     "name": "stdout",
     "output_type": "stream",
     "text": [
      "Estimating eruption/deposition age distributions...\n",
      "1: KJ08-157\n",
      "2: KJ04-75\n",
      "3: KJ09-66\n",
      "4: KJ04-72\n",
      "5: KJ04-70\n"
     ]
    }
   ],
   "source": [
    "# Number of steps to run in distribution MCMC\n",
    "distSteps = 10^6\n",
    "distBurnin = floor(Int,distSteps/100)\n",
    "\n",
    "# Choose the form of the prior distribution to use. \n",
    "# A variety of potentially useful distributions are provided in DistMetropolis.jl - Options include UniformDisribution,\n",
    "# TriangularDistribution, BootstrappedDistribution, and MeltsVolcanicZirconDistribution - or you can define your own.\n",
    "dist = TriangularDistribution;\n",
    "\n",
    "# Run MCMC to estimate saturation and eruption/deposition age distributions\n",
    "smpl = tMinDistMetropolis(smpl,distSteps,distBurnin,dist);"
   ]
  },
  {
   "cell_type": "code",
   "execution_count": 4,
   "metadata": {},
   "outputs": [
    {
     "name": "stdout",
     "output_type": "stream",
     "text": [
      "KJ04-70.csv\n",
      "KJ04-70_distribution.pdf\n",
      "KJ04-70_rankorder.pdf\n",
      "KJ04-72.csv\n",
      "KJ04-72_distribution.pdf\n",
      "KJ04-72_rankorder.pdf\n",
      "KJ04-75.csv\n",
      "KJ04-75_distribution.pdf\n",
      "KJ04-75_rankorder.pdf\n",
      "KJ08-157.csv\n",
      "KJ08-157_distribution.pdf\n",
      "KJ08-157_rankorder.pdf\n",
      "KJ09-66.csv\n",
      "KJ09-66_distribution.pdf\n",
      "KJ09-66_rankorder.pdf\n",
      "KJ12-01.csv\n",
      "results.csv\n"
     ]
    }
   ],
   "source": [
    "# Let's see what that did\n",
    "run(`ls $(smpl.Path)`); sleep(1)"
   ]
  },
  {
   "cell_type": "markdown",
   "metadata": {},
   "source": [
    "To see what one of these plots looks like, try pasting this into a markdown cell like the one below\n",
    "```\n",
    "<img src=\"DenverUPbExampleData/KJ04-75_rankorder.pdf\" align=\"left\"/>\n",
    "```"
   ]
  },
  {
   "cell_type": "markdown",
   "metadata": {},
   "source": []
  },
  {
   "cell_type": "markdown",
   "metadata": {},
   "source": [
    "For each sample, the eruption/deposition age distribution is inherently asymmetric. For example:\n",
    "<img src=\"DenverUPbExampleData/KJ04-70_distribution.pdf\" align=\"left\"/>"
   ]
  },
  {
   "cell_type": "markdown",
   "metadata": {},
   "source": [
    "Consequently, rather than simply taking a mean and standard deviation of the stationary distribtuion of the Markov Chain, the histogram of the stationary distribution is fit to an empirical distribution function of the form \n",
    "\n",
    "$$ f = a * \\exp\\left(d^2e^2\\frac{x - b}{c}\\left(\\frac{1}{2} - \\frac{atan\\left(\\frac{x - b}{c}\\right)}{\\pi}\\right)  - \\frac{d^2}{e^2}\\frac{x - b}{c}\\left(\\frac{1}{2} + \\frac{atan\\left(\\frac{x - b}{c}\\right)}{\\pi}\\right)\\right) $$ \n",
    "\n",
    "i.e., an asymmetric exponential function with two log-linear segments joined with an arctangent sigmoid. After fitting, the five parameters $a$ - $e$ are stored in `smpl.params` and passed to the stratigraphic model\n",
    "\n"
   ]
  },
  {
   "cell_type": "markdown",
   "metadata": {},
   "source": [
    "## Configure and run stratigraphic model\n",
    "note: to spare Binder's servers, this demo uses\n",
    "```\n",
    "config.nsteps = 3000 \n",
    "config.burnin = 2000*npoints_approx\n",
    "```\n",
    "However, you probably want higher numbers for a publication-quality result, for instance \n",
    "```\n",
    "config.nsteps = 15000 # Number of steps to run in distribution MCMC\n",
    "config.burnin = 10000*npoints_approx # Number to discard\n",
    "```"
   ]
  },
  {
   "cell_type": "code",
   "execution_count": 5,
   "metadata": {},
   "outputs": [
    {
     "name": "stdout",
     "output_type": "stream",
     "text": [
      "Generating stratigraphic age-depth model...\n",
      "Burn-in: 350000 steps\n"
     ]
    },
    {
     "name": "stderr",
     "output_type": "stream",
     "text": [
      "\u001b[32mBurn-in... 97%|████████████████████████████████████████ |  ETA: 0:00:03\u001b[39m"
     ]
    },
    {
     "name": "stdout",
     "output_type": "stream",
     "text": [
      "Collecting sieved stationary distribution: 525000 steps\n"
     ]
    },
    {
     "name": "stderr",
     "output_type": "stream",
     "text": [
      "\u001b[32mBurn-in...100%|█████████████████████████████████████████| Time: 0:01:40\u001b[39m\n",
      "\u001b[32mCollecting... 93%|███████████████████████████████████   |  ETA: 0:00:10\u001b[39m"
     ]
    },
    {
     "data": {
      "text/plain": [
       "(Chron.StratAgeModel([-51.5, -50.5, -49.5, -48.5, -47.5, -46.5, -45.5, -44.5, -43.5, -42.5  …  83.5, 84.5, 85.5, 86.5, 87.5, 88.5, 89.5, 90.5, 91.5, 92.5], [66.0691, 66.0681, 66.067, 66.0658, 66.0648, 66.0636, 66.0626, 66.0615, 66.0604, 66.0594  …  65.9146, 65.9107, 65.9063, 65.902, 65.8977, 65.8931, 65.8888, 65.8851, 65.8812, 65.8776], [0.0117851, 0.0124041, 0.0130692, 0.0137776, 0.0142413, 0.0149503, 0.0155074, 0.0161814, 0.0165959, 0.0169855  …  0.0237311, 0.0242499, 0.0242225, 0.0243929, 0.023966, 0.0235348, 0.02307, 0.0223431, 0.021307, 0.0202289], [66.0709, 66.0699, 66.0689, 66.0678, 66.0668, 66.0659, 66.065, 66.0641, 66.0629, 66.0619  …  65.9163, 65.912, 65.9071, 65.9016, 65.8968, 65.8918, 65.887, 65.8834, 65.8797, 65.8768], [66.0418, 66.0396, 66.0368, 66.0324, 66.0301, 66.0277, 66.0263, 66.0228, 66.0214, 66.0196  …  65.865, 65.8618, 65.8583, 65.8557, 65.8529, 65.8493, 65.8466, 65.8455, 65.842, 65.8399], [66.0858, 66.0857, 66.0855, 66.0854, 66.0852, 66.0851, 66.085, 66.0847, 66.0845, 66.0842  …  65.9545, 65.9526, 65.9487, 65.9474, 65.9445, 65.9405, 65.9382, 65.9341, 65.93, 65.9234]), [66.0485 66.0667 … 66.0586 66.0826; 66.0374 66.0667 … 66.0586 66.0826; … ; 65.8848 65.9137 … 65.8709 65.8794; 65.8848 65.8939 … 65.8709 65.8794], [16.4002, 15.2693, 15.2402, 16.4079, 16.6355, 17.1274, 18.1588, 19.3584, 20.1054, 19.614  …  15.1001, 10.9384, 12.798, 20.196, 12.6431, 16.6845, 16.2482, 17.3401, 13.4568, 12.9838])"
      ]
     },
     "execution_count": 5,
     "metadata": {},
     "output_type": "execute_result"
    },
    {
     "name": "stderr",
     "output_type": "stream",
     "text": [
      "\r",
      "\u001b[32mCollecting... 97%|█████████████████████████████████████ |  ETA: 0:00:04\u001b[39m\r",
      "\u001b[32mCollecting...100%|██████████████████████████████████████| Time: 0:02:14\u001b[39m\n"
     ]
    }
   ],
   "source": [
    "# Configure the stratigraphic Monte Carlo model\n",
    "config = NewStratAgeModelConfiguration()\n",
    "# If you in doubt, you can probably leave these parameters as-is\n",
    "config.resolution = 1.0 # Same units as sample height. Smaller is slower!\n",
    "config.bounding = 0.1 # how far away do we place runaway bounds, as a fraction of total section height\n",
    "(bottom, top) = extrema(smpl.Height)\n",
    "npoints_approx = round(Int,length(bottom:config.resolution:top) * (1 + 2*config.bounding))\n",
    "config.nsteps = 3000 # Number of steps to run in distribution MCMC\n",
    "config.burnin = 2000*npoints_approx # Number to discard\n",
    "config.sieve = round(Int,npoints_approx) # Record one out of every nsieve steps\n",
    "\n",
    "# Run the stratigraphic MCMC model\n",
    "(mdl, agedist, lldist) = StratMetropolisDist(smpl, config);"
   ]
  },
  {
   "cell_type": "markdown",
   "metadata": {},
   "source": [
    "## Plot results"
   ]
  },
  {
   "cell_type": "code",
   "execution_count": 6,
   "metadata": {},
   "outputs": [
    {
     "data": {
      "image/png": "[encoded data removed]"
     },
     "metadata": {},
     "output_type": "display_data"
    }
   ],
   "source": [
    "# Plot results (mean and 95% confidence interval for both model and data)\n",
    "hdl = plot([mdl.Age_025CI; reverse(mdl.Age_975CI)],[mdl.Height; reverse(mdl.Height)], fill=(minimum(mdl.Height),0.5,:blue), label=\"model\")\n",
    "plot!(hdl, mdl.Age, mdl.Height, linecolor=:blue, label=\"\")\n",
    "plot!(hdl, smpl.Age, smpl.Height, xerror=(smpl.Age-smpl.Age_025CI,smpl.Age_975CI-smpl.Age),label=\"data\",seriestype=:scatter,color=:black)\n",
    "plot!(hdl, xlabel=\"Age ($AgeUnit)\", ylabel=\"Height ($HeightUnit)\")\n",
    "savefig(hdl,\"AgeDepthModel.pdf\");\n",
    "display(hdl)"
   ]
  },
  {
   "cell_type": "code",
   "execution_count": 7,
   "metadata": {},
   "outputs": [
    {
     "name": "stdout",
     "output_type": "stream",
     "text": [
      "Interpolated age: 66.01642354068589 +0.05088381998432112/-0.04909590322155566 Ma"
     ]
    }
   ],
   "source": [
    "# Interpolate results at KTB (height = 0)\n",
    "KTB = linterp1s(mdl.Height,mdl.Age,0)\n",
    "KTB_min = linterp1s(mdl.Height,mdl.Age_025CI,0)\n",
    "KTB_max = linterp1s(mdl.Height,mdl.Age_975CI,0)\n",
    "print(\"Interpolated age: $KTB +$(KTB_max-KTB)/-$(KTB-KTB_min) Ma\")"
   ]
  },
  {
   "cell_type": "code",
   "execution_count": null,
   "metadata": {},
   "outputs": [],
   "source": []
  },
  {
   "cell_type": "code",
   "execution_count": null,
   "metadata": {},
   "outputs": [],
   "source": []
  }
 ],
 "metadata": {
  "kernelspec": {
   "display_name": "Julia 0.6.4",
   "language": "julia",
   "name": "julia-0.6"
  },
  "language_info": {
   "file_extension": ".jl",
   "mimetype": "application/julia",
   "name": "julia",
   "version": "0.6.4"
  }
 },
 "nbformat": 4,
 "nbformat_minor": 2
}
