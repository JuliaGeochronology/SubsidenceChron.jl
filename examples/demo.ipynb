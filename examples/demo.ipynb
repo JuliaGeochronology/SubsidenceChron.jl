{
 "cells": [
  {
   "cell_type": "markdown",
   "metadata": {},
   "source": [
    "# Chron.jl demo notebook"
   ]
  },
  {
   "cell_type": "code",
   "execution_count": 1,
   "metadata": {},
   "outputs": [],
   "source": [
    "# Load (and install if necessary) the Chron.jl package\n",
    "if VERSION>=v\"0.7\"\n",
    "    using Pkg, Statistics\n",
    "end\n",
    "\n",
    "try\n",
    "    using Chron\n",
    "catch\n",
    "    Pkg.clone(\"https://github.com/brenhinkeller/Chron.jl\")\n",
    "    using Chron\n",
    "end\n",
    "\n",
    "using Plots; gr();"
   ]
  },
  {
   "cell_type": "markdown",
   "metadata": {},
   "source": [
    "## Enter sample information\n",
    "This example data is from Clyde et al. (2016) \"Direct high-precision\n",
    "U–Pb geochronology of the end-Cretaceous extinction and calibration of\n",
    "Paleocene astronomical timescales\" EPSL 452, 272–280.\n",
    "doi: 10.1016/j.epsl.2016.07.041"
   ]
  },
  {
   "cell_type": "code",
   "execution_count": 2,
   "metadata": {},
   "outputs": [],
   "source": [
    "Name   =        (\"KJ08-157\", \"KJ04-75\", \"KJ09-66\", \"KJ04-72\", \"KJ04-70\",);\n",
    "Height =        [     -52.0,      44.0,      54.0,      82.0,      93.0,];\n",
    "Height_Sigma =  [       3.0,       1.0,       3.0,       3.0,       3.0,];\n",
    "Path = \"DenverUPbExampleData/\" # Where are the data files?\n",
    "inputSigmaLevel = 2; # i.e., are the data files 1-sigma or 2-sigma. Integer.\n",
    "\n",
    "AgeUnit = \"Ma\" # Unit of measurement for ages and errors in the data files\n",
    "HeightUnit = \"cm\" # Unit of measurement for Height and Height_Sigma\n",
    "\n",
    "# Make an instance of a Chron StratAgeData object with the data we've just enterd\n",
    "smpl = NewStratAgeData(Name,Path,inputSigmaLevel)\n",
    "smpl.Height[:] = Height\n",
    "smpl.Height_Sigma[:] = Height_Sigma\n",
    "smpl.Age_Sidedness[:] = zeros(length(Name)); # Sidedness (zeros by default, geochron constraints are two-sided). Use -1 for a maximum age and +1 for a minimum age, 0 for two-sided"
   ]
  },
  {
   "cell_type": "markdown",
   "metadata": {},
   "source": [
    "## Configure and run distribution model"
   ]
  },
  {
   "cell_type": "code",
   "execution_count": 3,
   "metadata": {},
   "outputs": [],
   "source": [
    "# Number of steps to run in distribution MCMC\n",
    "distSteps = 10^6;\n",
    "distBurnin = floor(Int,distSteps/100);\n",
    "\n",
    "# Choose the form of the prior distribution to use\n",
    "# A variety of potentially useful distributions are provided in DistMetropolis.jl\n",
    "# Options include UniformDisribution, TriangularDistribution,\n",
    "# BootstrappedDistribution, and MeltsVolcanicZirconDistribution\n",
    "# or you can define your own.\n",
    "dist = TriangularDistribution;"
   ]
  },
  {
   "cell_type": "code",
   "execution_count": 4,
   "metadata": {},
   "outputs": [
    {
     "name": "stdout",
     "output_type": "stream",
     "text": [
      "Estimating eruption/deposition age distributions...\n",
      "1: KJ08-157\n",
      "2: KJ04-75\n",
      "3: KJ09-66\n",
      "4: KJ04-72\n",
      "5: KJ04-70\n"
     ]
    }
   ],
   "source": [
    "# Run MCMC to estimate saturation and eruption/deposition age distributions\n",
    "smpl = tMinDistMetropolis(smpl,distSteps,distBurnin,dist);"
   ]
  },
  {
   "cell_type": "markdown",
   "metadata": {},
   "source": [
    "## Configure and run stratigraphic model"
   ]
  },
  {
   "cell_type": "code",
   "execution_count": 5,
   "metadata": {},
   "outputs": [
    {
     "data": {
      "text/plain": [
       "StratAgeModelConfiguration(1.0, 350000, 3000, 175, 0.1)"
      ]
     },
     "execution_count": 5,
     "metadata": {},
     "output_type": "execute_result"
    }
   ],
   "source": [
    "# If you in doubt, you can probably leave these parameters as-is\n",
    "resolution = 1. # Same units as sample height. Smaller is slower!\n",
    "(bottom, top) = extrema(smpl.Height);\n",
    "bounding = 0.1; # how far away do we place runaway bounds, as a fraction of total section height\n",
    "npoints_approx = round(Int,length(bottom:resolution:top) * (1+2*bounding))\n",
    "\n",
    "# Probably want more steps in a production environment, but we'll use 2000 and 3000 for this demo\n",
    "burnin = 2000*npoints_approx; \n",
    "nsteps = 3000;\n",
    "\n",
    "sieve = round(Int,npoints_approx);\n",
    "\n",
    "# Pass configuration to a struct\n",
    "config = StratAgeModelConfiguration(\n",
    "    resolution, # Resolution\n",
    "    burnin, # Lenght of burnin\n",
    "    nsteps, # Number of regular MC steps\n",
    "    sieve, # Seive strength\n",
    "    bounding, # Runaway bounds\n",
    ")"
   ]
  },
  {
   "cell_type": "code",
   "execution_count": 6,
   "metadata": {},
   "outputs": [
    {
     "name": "stdout",
     "output_type": "stream",
     "text": [
      "Generating stratigraphic age-depth model...\n",
      "Burn-in: 350000 steps\n"
     ]
    },
    {
     "name": "stderr",
     "output_type": "stream",
     "text": [
      "\r",
      "\u001b[32mBurn-in... 49%|████████████████████                     |  ETA: 0:00:05\u001b[39m"
     ]
    },
    {
     "name": "stdout",
     "output_type": "stream",
     "text": [
      "Collecting sieved stationary distribution: 525000 steps\n"
     ]
    },
    {
     "name": "stderr",
     "output_type": "stream",
     "text": [
      "\u001b[32mBurn-in...100%|█████████████████████████████████████████| Time: 0:00:10\u001b[39m\n",
      "\u001b[32mCollecting...100%|██████████████████████████████████████| Time: 0:00:13\u001b[39m\n"
     ]
    }
   ],
   "source": [
    "# Run the stratigraphic MCMC model\n",
    "(mdl, agedist, lldist) = StratMetropolisDist(smpl, config);"
   ]
  },
  {
   "cell_type": "markdown",
   "metadata": {},
   "source": [
    "## Plot results"
   ]
  },
  {
   "cell_type": "code",
   "execution_count": 7,
   "metadata": {},
   "outputs": [],
   "source": [
    "# Plot results (mean and 95% confidence interval for both model and data)\n",
    "hdl = plot([mdl.Age_025CI; reverse(mdl.Age_975CI)],[mdl.Height; reverse(mdl.Height)], fill=(minimum(mdl.Height),0.5,:blue), label=\"model\")\n",
    "plot!(hdl, mdl.Age, mdl.Height, linecolor=:blue, label=\"\")\n",
    "plot!(hdl, smpl.Age, smpl.Height, xerror=(smpl.Age-smpl.Age_025CI,smpl.Age_975CI-smpl.Age),label=\"data\",seriestype=:scatter,color=:black)\n",
    "plot!(hdl, xlabel=\"Age ($AgeUnit)\", ylabel=\"Height ($HeightUnit)\")\n",
    "savefig(hdl,\"AgeDepthModel.pdf\");\n",
    "display(hdl)"
   ]
  },
  {
   "cell_type": "code",
   "execution_count": 9,
   "metadata": {},
   "outputs": [
    {
     "name": "stdout",
     "output_type": "stream",
     "text": [
      "Interpolated age: 66.01665892157025 +0.048352935742755676/-0.049324457601741756 Ma"
     ]
    }
   ],
   "source": [
    "# Interpolate results at KTB (height = 0)\n",
    "KTB = linterp1s(mdl.Height,mdl.Age,0)\n",
    "KTB_min = linterp1s(mdl.Height,mdl.Age_025CI,0)\n",
    "KTB_max = linterp1s(mdl.Height,mdl.Age_975CI,0)\n",
    "print(\"Interpolated age: $KTB +$(KTB_max-KTB)/-$(KTB-KTB_min) Ma\")"
   ]
  },
  {
   "cell_type": "code",
   "execution_count": null,
   "metadata": {},
   "outputs": [],
   "source": []
  },
  {
   "cell_type": "code",
   "execution_count": null,
   "metadata": {},
   "outputs": [],
   "source": []
  }
 ],
 "metadata": {
  "kernelspec": {
   "display_name": "Julia 1.0.1",
   "language": "julia",
   "name": "julia-1.0"
  },
  "language_info": {
   "file_extension": ".jl",
   "mimetype": "application/julia",
   "name": "julia",
   "version": "1.0.1"
  }
 },
 "nbformat": 4,
 "nbformat_minor": 2
}
